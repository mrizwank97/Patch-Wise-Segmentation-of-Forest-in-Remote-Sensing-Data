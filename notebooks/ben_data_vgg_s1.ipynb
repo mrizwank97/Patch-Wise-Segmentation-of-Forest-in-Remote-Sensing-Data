{
 "cells": [
  {
   "cell_type": "code",
   "execution_count": null,
   "metadata": {
    "scrolled": true
   },
   "outputs": [],
   "source": [
    "import keras\n",
    "import random \n",
    "import numpy as np\n",
    "import pandas as pd\n",
    "from glob import glob\n",
    "from PIL import Image\n",
    "from skimage.io import imread\n",
    "from keras import backend as K\n",
    "from keras.models import Sequential\n",
    "from matplotlib import pyplot as plt\n",
    "from keras import regularizers, optimizers\n",
    "from keras.layers import Conv2D, MaxPool2D\n",
    "from keras.callbacks import ModelCheckpoint, ReduceLROnPlateau, EarlyStopping\n",
    "from keras.layers import Dense, Activation, Flatten, Dropout, BatchNormalization"
   ]
  },
  {
   "cell_type": "code",
   "execution_count": null,
   "metadata": {},
   "outputs": [],
   "source": [
    "def normalize(array):\n",
    "    array_min, array_max = array.min(), array.max()\n",
    "    return ((array - array_min)/(array_max - array_min))"
   ]
  },
  {
   "cell_type": "code",
   "execution_count": 5,
   "metadata": {},
   "outputs": [],
   "source": [
    "def image_generator(files, batch_size=32):\n",
    "    from skimage.io import imread\n",
    "    from random import sample, choice\n",
    "    while True:\n",
    "        batch_files = sample(files, batch_size)\n",
    "        batch_Y = []\n",
    "        batch_X = []\n",
    "        for idx, input_path in enumerate(batch_files):\n",
    "            image = np.array(imread(input_path), dtype=float)[:,:,10:]\n",
    "            #image[:,:,0]= (image[:,:,0]-image[:,:,0].min())/(image[:,:,0].max()-image[:,:,0].min())\n",
    "            #image[:,:,1]= (image[:,:,1]-image[:,:,1].min())/(image[:,:,1].max()-image[:,:,1].min())\n",
    "            temp = input_path.split('/')[-1]\n",
    "            Y = list(df.loc[temp])\n",
    "            batch_Y += [Y]\n",
    "            batch_X += [image]\n",
    "        X = np.array(batch_X)\n",
    "        Y = np.array(batch_Y)\n",
    "        yield(X, Y)"
   ]
  },
  {
   "cell_type": "code",
   "execution_count": 6,
   "metadata": {},
   "outputs": [],
   "source": [
    "def recall(y_true, y_pred):\n",
    "        true_positives = K.sum(K.round(K.clip(y_true * y_pred, 0, 1)))\n",
    "        possible_positives = K.sum(K.round(K.clip(y_true, 0, 1)))\n",
    "        recall = true_positives / (possible_positives + K.epsilon())\n",
    "        return recall\n",
    "\n",
    "def precision(y_true, y_pred):\n",
    "        true_positives = K.sum(K.round(K.clip(y_true * y_pred, 0, 1)))\n",
    "        predicted_positives = K.sum(K.round(K.clip(y_pred, 0, 1)))\n",
    "        precision = true_positives / (predicted_positives + K.epsilon())\n",
    "        return precision\n",
    "\n",
    "def f1(y_true, y_pred):\n",
    "    prec = precision(y_true, y_pred)\n",
    "    rec = recall(y_true, y_pred)\n",
    "    return 2*((prec*rec)/(prec+rec+K.epsilon()))\n",
    "\n",
    "def build_callbacks():\n",
    "    checkpointer = ModelCheckpoint(filepath=\"../models/ben_data_vgg_s1.h5\", monitor='val_f1', verbose=1, save_best_only=True, save_weights_only=False, mode='max')\n",
    "    reduce = keras.callbacks.ReduceLROnPlateau(monitor='val_f1', factor=0.1, patience=4, mode='max')\n",
    "    early = keras.callbacks.EarlyStopping(monitor='val_f1', min_delta=1e-4, patience=15, mode='max')\n",
    "    csv = keras.callbacks.CSVLogger('../logs/ben_data_vgg_s1.csv', separator=',')\n",
    "    callbacks = [checkpointer, reduce, early, csv]\n",
    "    return callbacks"
   ]
  },
  {
   "cell_type": "code",
   "execution_count": 7,
   "metadata": {},
   "outputs": [
    {
     "name": "stdout",
     "output_type": "stream",
     "text": [
      "Total no. of images 0\n",
      "Training Dataset Size 0\n",
      "Validation Dataset Size 0\n",
      "Test Dataset Size 0\n"
     ]
    }
   ],
   "source": [
    "files = glob('/scratch/mrkhalid/ben_data'+\"/**/**/**/*.tif\")\n",
    "print('Total no. of images ' + str(len(files)))\n",
    "for i in range(100):\n",
    "    random.shuffle(files)\n",
    "ne = len(files)\n",
    "train_files = files[:int(.7*ne)]\n",
    "val_files = files[int(.7*ne):int(.85*ne)]\n",
    "test_files = files[int(.85*ne):ne]\n",
    "print('Training Dataset Size ' + str(len(train_files)))\n",
    "print('Validation Dataset Size ' + str(len(val_files)))\n",
    "print('Test Dataset Size ' + str(len(test_files)))"
   ]
  },
  {
   "cell_type": "code",
   "execution_count": null,
   "metadata": {},
   "outputs": [],
   "source": [
    "df = pd.read_csv(r'/scratch/mrkhalid/annotated.csv')\n",
    "df['ID'] = df['ID'] + '.tif'\n",
    "df.set_index(\"ID\", inplace=True)\n",
    "train_generator = image_generator(train_files, batch_size=32)\n",
    "val_generator = image_generator(val_files, batch_size=32)\n",
    "test_generator = image_generator(test_files, batch_size=32)"
   ]
  },
  {
   "cell_type": "code",
   "execution_count": 9,
   "metadata": {},
   "outputs": [],
   "source": [
    "model = Sequential()\n",
    "model.add(BatchNormalization(input_shape=(120,120,2)))\n",
    "model.add(Conv2D(filters=64, kernel_size=(3,3), padding=\"same\"))\n",
    "model.add(MaxPool2D(pool_size=(2,2), strides=(2,2)))\n",
    "model.add(BatchNormalization())\n",
    "model.add(Activation('relu'))\n",
    "model.add(Conv2D(filters=64, kernel_size=(3,3), padding=\"same\"))\n",
    "model.add(MaxPool2D(pool_size=(2,2), strides=(2,2)))\n",
    "model.add(BatchNormalization())\n",
    "model.add(Activation('relu'))\n",
    "model.add(Conv2D(filters=128, kernel_size=(3,3), padding=\"same\"))\n",
    "model.add(BatchNormalization())\n",
    "model.add(Activation('relu'))\n",
    "model.add(Conv2D(filters=128, kernel_size=(3,3), padding=\"same\"))\n",
    "model.add(MaxPool2D(pool_size=(2,2), strides=(2,2)))\n",
    "model.add(BatchNormalization())\n",
    "model.add(Activation('relu'))\n",
    "model.add(Dropout(0.5))\n",
    "model.add(Conv2D(filters=256, kernel_size=(3,3), padding=\"same\"))\n",
    "model.add(MaxPool2D(pool_size=(2,2), strides=(2,2)))\n",
    "model.add(BatchNormalization())\n",
    "model.add(Activation('relu'))\n",
    "model.add(Conv2D(filters=256, kernel_size=(3,3), padding=\"same\"))\n",
    "model.add(MaxPool2D(pool_size=(2,2), strides=(2,2)))\n",
    "model.add(BatchNormalization())\n",
    "model.add(Activation('relu'))\n",
    "model.add(Dropout(0.5))\n",
    "model.add(Flatten())\n",
    "model.add(Dense(units=512,activation=\"relu\"))\n",
    "model.add(BatchNormalization())\n",
    "model.add(Activation('relu'))\n",
    "model.add(Dense(units=512,activation=\"relu\"))\n",
    "model.add(BatchNormalization())\n",
    "model.add(Activation('relu'))\n",
    "model.add(Dense(units=19, activation=\"sigmoid\"))\n",
    "model.compile(optimizers.adam(), loss=\"binary_crossentropy\", metrics=['accuracy', recall, precision, f1])"
   ]
  },
  {
   "cell_type": "code",
   "execution_count": null,
   "metadata": {},
   "outputs": [
    {
     "name": "stdout",
     "output_type": "stream",
     "text": [
      "Epoch 1/100\n"
     ]
    },
    {
     "name": "stderr",
     "output_type": "stream",
     "text": [
      "/home/mrkhalid/miniconda3/lib/python3.6/site-packages/keras/engine/training_generator.py:47: UserWarning: Using a generator with `use_multiprocessing=True` and multiple workers may duplicate your data. Please consider using the`keras.utils.Sequence class.\n",
      "  UserWarning('Using a generator with `use_multiprocessing=True`'\n"
     ]
    },
    {
     "name": "stdout",
     "output_type": "stream",
     "text": [
      "3120/5556 [===============>..............] - ETA: 21:15 - loss: 0.2675 - acc: 0.8812 - recall: 0.4528 - precision: 0.6780 - f1: 0.5406"
     ]
    }
   ],
   "source": [
    "train_steps = len(train_files) // 32\n",
    "val_steps = len(val_files) // 32\n",
    "test_steps =len(test_files) // 32\n",
    "history = model.fit_generator(generator=train_generator,\n",
    "                    steps_per_epoch=train_steps,\n",
    "                    validation_data=val_generator,\n",
    "                    validation_steps=val_steps,\n",
    "                    epochs=100,\n",
    "                    callbacks = build_callbacks(),\n",
    "                    use_multiprocessing=True,\n",
    "                    max_queue_size = 512,\n",
    "                    workers=64\n",
    "                    )"
   ]
  },
  {
   "cell_type": "code",
   "execution_count": null,
   "metadata": {},
   "outputs": [],
   "source": [
    "loss, acc, rec, prec, f1 = model.evaluate_generator(test_generator,steps=test_steps)\n",
    "print(loss)\n",
    "print(acc)\n",
    "print(rec)\n",
    "print(prec)\n",
    "print(f1)"
   ]
  },
  {
   "cell_type": "code",
   "execution_count": 10,
   "metadata": {},
   "outputs": [],
   "source": [
    "model.load_weights('../models/ben_data_vgg_s1.h5')"
   ]
  },
  {
   "cell_type": "code",
   "execution_count": 17,
   "metadata": {},
   "outputs": [],
   "source": [
    "label = [\"Urban fabric\", \"Industrial or commercial units\", \"Arable land\", \"Permanent crops\",\"Pastures\", \"Complex cultivation patterns\", \n",
    "         \"Land principally occupied by agriculture, with significant areas of natural vegetation\",\n",
    "          \"Agro-forestry areas\", \"Broad-leaved forest\", \"Coniferous forest\", \"Mixed forest\",\n",
    "          \"Natural grassland and sparsely vegetated areas\", \"Moors, heathland and sclerophyllous vegetation\",\n",
    "          \"Transitional woodland, shrub\", \"Beaches, dunes, sands\", \"Inland wetlands\", \"Coastal wetlands\",\n",
    "          \"Inland waters\", \"Marine waters\"]"
   ]
  },
  {
   "cell_type": "code",
   "execution_count": 18,
   "metadata": {},
   "outputs": [
    {
     "name": "stdout",
     "output_type": "stream",
     "text": [
      "['Marine waters']\n",
      "['Coniferous forest', 'Mixed forest', 'Inland waters']\n",
      "['Marine waters']\n",
      "['Coniferous forest', 'Transitional woodland, shrub']\n",
      "['Coniferous forest', 'Mixed forest', 'Transitional woodland, shrub']\n",
      "['Arable land']\n",
      "['Coniferous forest', 'Mixed forest', 'Transitional woodland, shrub']\n",
      "['Coniferous forest', 'Mixed forest']\n",
      "['Coniferous forest', 'Mixed forest', 'Inland waters']\n",
      "['Coniferous forest', 'Mixed forest', 'Transitional woodland, shrub']\n"
     ]
    }
   ],
   "source": [
    "from skimage.io import imread\n",
    "from skimage.transform import resize\n",
    "files = glob('../data'+'/**'+'/*.tif')\n",
    "for f in files:\n",
    "    image = np.array(imread(f), dtype=float)[:,:,10:] \n",
    "    img = np.reshape(image, (1, 120, 120, 2))\n",
    "    r=model.predict(img)\n",
    "    r[r>=.5]=1\n",
    "    r[r<.5]=0\n",
    "    l=np.where(r==1)[1]\n",
    "    print([label[i] for i in l])"
   ]
  },
  {
   "cell_type": "code",
   "execution_count": 26,
   "metadata": {},
   "outputs": [],
   "source": [
    "import pandas as pd\n",
    "from matplotlib import pyplot as plt\n",
    "df = pd.read_csv('../logs/ben_data_vgg_s1.csv')"
   ]
  },
  {
   "cell_type": "code",
   "execution_count": 27,
   "metadata": {},
   "outputs": [
    {
     "data": {
      "image/png": "[encoded data removed]",
      "text/plain": [
       "<Figure size 432x288 with 1 Axes>"
      ]
     },
     "metadata": {
      "needs_background": "light"
     },
     "output_type": "display_data"
    }
   ],
   "source": [
    "plt.plot(df['f1'], label='train f1_score')\n",
    "plt.plot(df['val_f1'], label='val f1_score')\n",
    "plt.xlabel('epochs')\n",
    "plt.ylabel('f1 score')\n",
    "plt.title('F1 score for model trained on S1 images')\n",
    "plt.legend(loc=\"lower right\")\n",
    "plt.savefig('../plots/f1_score/ben_data_vgg_s1.png')"
   ]
  },
  {
   "cell_type": "code",
   "execution_count": 28,
   "metadata": {},
   "outputs": [
    {
     "data": {
      "image/png": "[encoded data removed]",
      "text/plain": [
       "<Figure size 432x288 with 1 Axes>"
      ]
     },
     "metadata": {
      "needs_background": "light"
     },
     "output_type": "display_data"
    }
   ],
   "source": [
    "plt.plot(df['loss'], label='train loss')\n",
    "plt.plot(df['val_loss'], label='val loss')\n",
    "plt.xlabel('epochs')\n",
    "plt.ylabel('loss')\n",
    "plt.title('Loss for model trained on S1 images')\n",
    "plt.legend(loc=\"upper right\")\n",
    "plt.savefig('../plots/loss/ben_data_vgg_s1.png')"
   ]
  },
  {
   "cell_type": "code",
   "execution_count": null,
   "metadata": {},
   "outputs": [],
   "source": []
  }
 ],
 "metadata": {
  "kernelspec": {
   "display_name": "Python 3",
   "language": "python",
   "name": "python3"
  },
  "language_info": {
   "codemirror_mode": {
    "name": "ipython",
    "version": 3
   },
   "file_extension": ".py",
   "mimetype": "text/x-python",
   "name": "python",
   "nbconvert_exporter": "python",
   "pygments_lexer": "ipython3",
   "version": "3.7.6"
  }
 },
 "nbformat": 4,
 "nbformat_minor": 2
}
