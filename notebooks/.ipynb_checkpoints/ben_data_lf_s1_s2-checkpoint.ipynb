{
 "cells": [
  {
   "cell_type": "code",
   "execution_count": 1,
   "metadata": {},
   "outputs": [
    {
     "ename": "ModuleNotFoundError",
     "evalue": "No module named 'keras'",
     "output_type": "error",
     "traceback": [
      "\u001b[1;31m---------------------------------------------------------------------------\u001b[0m",
      "\u001b[1;31mModuleNotFoundError\u001b[0m                       Traceback (most recent call last)",
      "\u001b[1;32m<ipython-input-1-a52c9f24969a>\u001b[0m in \u001b[0;36m<module>\u001b[1;34m\u001b[0m\n\u001b[1;32m----> 1\u001b[1;33m \u001b[1;32mimport\u001b[0m \u001b[0mkeras\u001b[0m\u001b[1;33m\u001b[0m\u001b[1;33m\u001b[0m\u001b[0m\n\u001b[0m\u001b[0;32m      2\u001b[0m \u001b[1;32mimport\u001b[0m \u001b[0mrandom\u001b[0m\u001b[1;33m\u001b[0m\u001b[1;33m\u001b[0m\u001b[0m\n\u001b[0;32m      3\u001b[0m \u001b[1;32mimport\u001b[0m \u001b[0mnumpy\u001b[0m \u001b[1;32mas\u001b[0m \u001b[0mnp\u001b[0m\u001b[1;33m\u001b[0m\u001b[1;33m\u001b[0m\u001b[0m\n\u001b[0;32m      4\u001b[0m \u001b[1;32mimport\u001b[0m \u001b[0mpandas\u001b[0m \u001b[1;32mas\u001b[0m \u001b[0mpd\u001b[0m\u001b[1;33m\u001b[0m\u001b[1;33m\u001b[0m\u001b[0m\n\u001b[0;32m      5\u001b[0m \u001b[1;32mfrom\u001b[0m \u001b[0mglob\u001b[0m \u001b[1;32mimport\u001b[0m \u001b[0mglob\u001b[0m\u001b[1;33m\u001b[0m\u001b[1;33m\u001b[0m\u001b[0m\n",
      "\u001b[1;31mModuleNotFoundError\u001b[0m: No module named 'keras'"
     ]
    }
   ],
   "source": [
    "import keras\n",
    "import random \n",
    "import numpy as np\n",
    "import pandas as pd\n",
    "from glob import glob\n",
    "from skimage.io import imread\n",
    "from keras import backend as K\n",
    "from matplotlib import pyplot as plt\n",
    "from keras.layers.merge import concatenate\n",
    "from keras import regularizers, optimizers\n",
    "from keras.models import Sequential, Model\n",
    "from keras.layers import Conv2D, MaxPooling2D\n",
    "from keras.callbacks import ModelCheckpoint, ReduceLROnPlateau, EarlyStopping\n",
    "from keras.layers import Input, Dense, Activation, Flatten, Dropout, BatchNormalization"
   ]
  },
  {
   "cell_type": "code",
   "execution_count": null,
   "metadata": {},
   "outputs": [],
   "source": [
    "!conda install -c anaconda keras"
   ]
  },
  {
   "cell_type": "code",
   "execution_count": 2,
   "metadata": {},
   "outputs": [],
   "source": [
    "def image_generator(files, batch_size=32):\n",
    "    from skimage.io import imread\n",
    "    from random import sample, choice\n",
    "    while True:\n",
    "        batch_files = sample(files, batch_size)\n",
    "        batch_Y = []\n",
    "        batch_s1X = []\n",
    "        batch_s2X = []\n",
    "        for idx, input_path in enumerate(batch_files):\n",
    "            image = np.array(imread(input_path), dtype=float)\n",
    "            s1 = image[:,:,10:]\n",
    "            s2 = image[:,:,:10]\n",
    "            temp = input_path.split('/')[-1]\n",
    "            Y = list(df.loc[temp])\n",
    "            batch_Y += [Y]\n",
    "            batch_s1X += [s1]\n",
    "            batch_s2X += [s2]\n",
    "        s1X = np.array(batch_s1X)\n",
    "        s2X = np.array(batch_s2X)\n",
    "        Y = np.array(batch_Y)\n",
    "        yield([s1X, s2X], Y)"
   ]
  },
  {
   "cell_type": "code",
   "execution_count": 3,
   "metadata": {},
   "outputs": [],
   "source": [
    "def recall(y_true, y_pred):\n",
    "        true_positives = K.sum(K.round(K.clip(y_true * y_pred, 0, 1)))\n",
    "        possible_positives = K.sum(K.round(K.clip(y_true, 0, 1)))\n",
    "        recall = true_positives / (possible_positives + K.epsilon())\n",
    "        return recall\n",
    "\n",
    "def precision(y_true, y_pred):\n",
    "        true_positives = K.sum(K.round(K.clip(y_true * y_pred, 0, 1)))\n",
    "        predicted_positives = K.sum(K.round(K.clip(y_pred, 0, 1)))\n",
    "        precision = true_positives / (predicted_positives + K.epsilon())\n",
    "        return precision\n",
    "\n",
    "def f1(y_true, y_pred):\n",
    "    prec = precision(y_true, y_pred)\n",
    "    rec = recall(y_true, y_pred)\n",
    "    return 2*((prec*rec)/(prec+rec+K.epsilon()))\n",
    "\n",
    "def build_callbacks():\n",
    "    checkpointer = ModelCheckpoint(filepath=\"../models/ben_data_lf_s1_s2.h5\", monitor='val_f1', verbose=1, save_best_only=True, save_weights_only=False, mode='max')\n",
    "    reduce = keras.callbacks.ReduceLROnPlateau(monitor='val_f1', factor=0.1, patience=4, mode='max')\n",
    "    early = keras.callbacks.EarlyStopping(monitor='val_f1', min_delta=1e-4, patience=15, mode='max')\n",
    "    csv = keras.callbacks.CSVLogger('../logs/ben_data_lf_s1_s2.csv', separator=',')\n",
    "    callbacks = [checkpointer, reduce, early, csv]\n",
    "    return callbacks"
   ]
  },
  {
   "cell_type": "code",
   "execution_count": 4,
   "metadata": {},
   "outputs": [
    {
     "name": "stdout",
     "output_type": "stream",
     "text": [
      "Total no. of images 254032\n",
      "Training Dataset Size 177822\n",
      "Validation Dataset Size 38105\n",
      "Test Dataset Size 38105\n"
     ]
    }
   ],
   "source": [
    "files = glob('/scratch/mrkhalid/ben_data'+\"/**/**/**/*.tif\")\n",
    "print('Total no. of images ' + str(len(files)))\n",
    "for i in range(100):\n",
    "    random.shuffle(files)\n",
    "ne = len(files)\n",
    "train_files = files[:int(.7*ne)]\n",
    "val_files = files[int(.7*ne):int(.85*ne)]\n",
    "test_files = files[int(.85*ne):ne]\n",
    "print('Training Dataset Size ' + str(len(train_files)))\n",
    "print('Validation Dataset Size ' + str(len(val_files)))\n",
    "print('Test Dataset Size ' + str(len(test_files)))"
   ]
  },
  {
   "cell_type": "code",
   "execution_count": 5,
   "metadata": {},
   "outputs": [],
   "source": [
    "df = pd.read_csv(r'/scratch/mrkhalid/annotated.csv')\n",
    "df['ID'] = df['ID'] + '.tif'\n",
    "df.set_index(\"ID\", inplace=True)\n",
    "bs = 64\n",
    "train_generator = image_generator(train_files, batch_size=bs)\n",
    "val_generator = image_generator(val_files, batch_size=bs)\n",
    "test_generator = image_generator(test_files, batch_size=bs)"
   ]
  },
  {
   "cell_type": "code",
   "execution_count": 12,
   "metadata": {},
   "outputs": [],
   "source": [
    "s1_i = Input(shape=(120,120,2))\n",
    "s1 = Conv2D(filters=32, kernel_size=(3,3), padding=\"same\")(s1_i)\n",
    "s1 = BatchNormalization()(s1)\n",
    "s1 = Activation('relu')(s1)\n",
    "s1 = Conv2D(filters=32, kernel_size=(3,3), padding=\"same\")(s1)\n",
    "s1 = MaxPooling2D(pool_size=(2,2), strides=(2,2))(s1)\n",
    "s1 = BatchNormalization()(s1)\n",
    "s1 = Activation('relu')(s1)\n",
    "s1 = Conv2D(filters=64, kernel_size=(3,3), padding=\"same\")(s1)\n",
    "s1 = BatchNormalization()(s1)\n",
    "s1 = Activation('relu')(s1)\n",
    "s1 = Conv2D(filters=64, kernel_size=(3,3), padding=\"same\")(s1)\n",
    "s1 = MaxPooling2D(pool_size=(2,2), strides=(2,2))(s1)\n",
    "s1 = BatchNormalization()(s1)\n",
    "s1 = Activation('relu')(s1)\n",
    "s1 = Conv2D(filters=128, kernel_size=(3,3), padding=\"same\")(s1)\n",
    "s1 = BatchNormalization()(s1)\n",
    "s1 = Activation('relu')(s1)\n",
    "s1 = Conv2D(filters=128, kernel_size=(3,3), padding=\"same\")(s1)\n",
    "s1 = BatchNormalization()(s1)\n",
    "s1 = Activation('relu')(s1)\n",
    "s2_i = Input(shape=(120,120,10))\n",
    "s2 = Conv2D(filters=32, kernel_size=(3,3), padding=\"same\")(s2_i)\n",
    "s2 = BatchNormalization()(s2)\n",
    "s2 = Activation('relu')(s2)\n",
    "s2 = Conv2D(filters=32, kernel_size=(3,3), padding=\"same\")(s2)\n",
    "s2 = MaxPooling2D(pool_size=(2,2), strides=(2,2))(s2)\n",
    "s2 = BatchNormalization()(s2)\n",
    "s2 = Activation('relu')(s2)\n",
    "s2 = Conv2D(filters=64, kernel_size=(3,3), padding=\"same\")(s2)\n",
    "s2 = BatchNormalization()(s2)\n",
    "s2 = Activation('relu')(s2)\n",
    "s2 = Conv2D(filters=64, kernel_size=(3,3), padding=\"same\")(s2)\n",
    "s2 = MaxPooling2D(pool_size=(2,2), strides=(2,2))(s2)\n",
    "s2 = BatchNormalization()(s2)\n",
    "s2 = Activation('relu')(s2)\n",
    "s2 = Conv2D(filters=128, kernel_size=(3,3), padding=\"same\")(s2)\n",
    "s2 = BatchNormalization()(s2)\n",
    "s2 = Activation('relu')(s2)\n",
    "s2 = Conv2D(filters=128, kernel_size=(3,3), padding=\"same\")(s2)\n",
    "s2 = BatchNormalization()(s2)\n",
    "s2 = Activation('relu')(s2)\n",
    "x = concatenate([s1,s2])\n",
    "x = Conv2D(filters=128, kernel_size=(3,3), padding=\"same\")(x)\n",
    "x = MaxPooling2D(pool_size=(2,2), strides=(2,2))(x)\n",
    "x = BatchNormalization()(x)\n",
    "x = Activation('relu')(x)\n",
    "x = Conv2D(filters=128, kernel_size=(3,3), padding=\"same\")(x)\n",
    "x = MaxPooling2D(pool_size=(2,2), strides=(2,2))(x)\n",
    "x = BatchNormalization()(x)\n",
    "x = Activation('relu')(x)\n",
    "x = Flatten()(x)\n",
    "x = Dense(512, activation=\"relu\",)(x)\n",
    "x = Dense(512, activation=\"relu\",)(x)\n",
    "out = Dense(19, activation='sigmoid')(x)\n",
    "model = Model(inputs=[s1_i, s2_i], outputs=out)\n",
    "model.compile(optimizers.adam(), loss=\"binary_crossentropy\", metrics=['accuracy', recall, precision, f1])"
   ]
  },
  {
   "cell_type": "code",
   "execution_count": null,
   "metadata": {
    "scrolled": true
   },
   "outputs": [
    {
     "name": "stdout",
     "output_type": "stream",
     "text": [
      "Epoch 1/100\n"
     ]
    },
    {
     "name": "stderr",
     "output_type": "stream",
     "text": [
      "/home/mrkhalid/miniconda3/lib/python3.6/site-packages/keras/engine/training_generator.py:47: UserWarning: Using a generator with `use_multiprocessing=True` and multiple workers may duplicate your data. Please consider using the`keras.utils.Sequence class.\n",
      "  UserWarning('Using a generator with `use_multiprocessing=True`'\n"
     ]
    },
    {
     "name": "stdout",
     "output_type": "stream",
     "text": [
      "2156/5556 [==========>...................] - ETA: 1:32:07 - loss: 0.2309 - acc: 0.8998 - recall: 0.5614 - precision: 0.7317 - f1: 0.6319"
     ]
    }
   ],
   "source": [
    "train_steps = len(train_files) // bs\n",
    "val_steps = len(val_files) // bs\n",
    "test_steps =len(test_files) // bs\n",
    "history = model.fit_generator(generator=train_generator,\n",
    "                    steps_per_epoch=train_steps,\n",
    "                    validation_data=val_generator,\n",
    "                    validation_steps=val_steps,\n",
    "                    epochs=100,\n",
    "                    callbacks = build_callbacks(),\n",
    "                    use_multiprocessing=True,\n",
    "                    max_queue_size = 512,\n",
    "                    workers=16,\n",
    "                    verbose=2\n",
    "                    )"
   ]
  },
  {
   "cell_type": "code",
   "execution_count": null,
   "metadata": {},
   "outputs": [],
   "source": [
    "loss, acc, rec, prec, f1 = model.evaluate_generator(test_generator,steps=test_steps)\n",
    "print(loss)\n",
    "print(acc)\n",
    "print(rec)\n",
    "print(prec)\n",
    "print(f1)"
   ]
  }
 ],
 "metadata": {
  "kernelspec": {
   "display_name": "Python 3",
   "language": "python",
   "name": "python3"
  },
  "language_info": {
   "codemirror_mode": {
    "name": "ipython",
    "version": 3
   },
   "file_extension": ".py",
   "mimetype": "text/x-python",
   "name": "python",
   "nbconvert_exporter": "python",
   "pygments_lexer": "ipython3",
   "version": "3.7.6"
  }
 },
 "nbformat": 4,
 "nbformat_minor": 2
}
